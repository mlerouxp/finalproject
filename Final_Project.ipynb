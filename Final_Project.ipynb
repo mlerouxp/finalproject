{
  "cells": [
    {
      "cell_type": "markdown",
      "metadata": {
        "id": "CTtrdqGpCpIZ"
      },
      "source": [
        "# Homework 8\n",
        "This notebook provides some skeleton code to get you started on the homework. Add in your own code and markdown cells to answer the homework questions. If you want to submit the notebook as a PDF, make sure your code and markdowns are clear and concise to make grading easy for the TAs.\n",
        "This notebook can be opened in Colab Open:\n",
        " \n",
        "[![Open In Colab](https://colab.research.google.com/assets/colab-badge.svg)](https://colab.research.google.com/github/zlisto/social_media_analytics/blob/main/HW8.ipynb)\n",
        "\n",
        "\n",
        "Before starting, select \"Runtime->Factory reset runtime\" to start with your directories and environment in the base state.\n",
        "\n",
        "If you want to save changes to the notebook, select \"File->Save a copy in Drive\" from the top menu in Colab. This will save the notebook in your Google Drive.\n",
        "\n",
        "\n",
        "\n"
      ]
    },
    {
      "cell_type": "markdown",
      "metadata": {
        "id": "zr4vM1Sd4RQd"
      },
      "source": [
        "# Clones, installs, imports, and **GPU**"
      ]
    },
    {
      "cell_type": "code",
      "execution_count": null,
      "metadata": {
        "id": "y3C8G8FfCpIa",
        "colab": {
          "base_uri": "https://localhost:8080/",
          "height": 36
        },
        "outputId": "0d9e75e8-8850-42d3-f376-32b72441af88"
      },
      "outputs": [
        {
          "output_type": "execute_result",
          "data": {
            "text/plain": [
              "'/device:GPU:0'"
            ],
            "application/vnd.google.colaboratory.intrinsic+json": {
              "type": "string"
            }
          },
          "metadata": {},
          "execution_count": 1
        }
      ],
      "source": [
        "import tensorflow as tf\n",
        "tf.test.gpu_device_name()\n"
      ]
    },
    {
      "cell_type": "code",
      "source": [
        "!git clone https://github.com/zlisto/social_media_analytics\n",
        "\n",
        "import os\n",
        "os.chdir(\"social_media_analytics\")"
      ],
      "metadata": {
        "colab": {
          "base_uri": "https://localhost:8080/"
        },
        "id": "NV0vs5YYvRnG",
        "outputId": "1d7234b1-fbae-4155-e137-a886f8b30ff7"
      },
      "execution_count": null,
      "outputs": [
        {
          "output_type": "stream",
          "name": "stdout",
          "text": [
            "Cloning into 'social_media_analytics'...\n",
            "remote: Enumerating objects: 435, done.\u001b[K\n",
            "remote: Counting objects: 100% (110/110), done.\u001b[K\n",
            "remote: Compressing objects: 100% (18/18), done.\u001b[K\n",
            "remote: Total 435 (delta 96), reused 104 (delta 92), pack-reused 325\u001b[K\n",
            "Receiving objects: 100% (435/435), 46.34 MiB | 10.94 MiB/s, done.\n",
            "Resolving deltas: 100% (243/243), done.\n",
            "Checking out files: 100% (55/55), done.\n"
          ]
        }
      ]
    },
    {
      "cell_type": "code",
      "source": [
        "!pip install -r requirements.txt"
      ],
      "metadata": {
        "id": "kV9VoYvXwCM_"
      },
      "execution_count": null,
      "outputs": []
    },
    {
      "cell_type": "code",
      "source": [
        "import pandas as pd\n",
        "import matplotlib.pyplot as plt\n",
        "import seaborn as sns\n",
        "import numpy as np\n",
        "\n",
        "import umap\n",
        "import scripts.TextAnalysis as ta\n",
        "from transformers import AutoTokenizer, AutoModelForSequenceClassification\n",
        "import codecs  #this let's us display tweets properly (emojis, etc.)\n",
        "pd.set_option(\"display.max_colwidth\", None)"
      ],
      "metadata": {
        "id": "JWEYNmGowF0y"
      },
      "execution_count": null,
      "outputs": []
    },
    {
      "cell_type": "markdown",
      "metadata": {
        "id": "H92DV5YyCpIc"
      },
      "source": [
        "\n",
        "\n",
        "```\n",
        "```\n",
        "\n",
        "# Task 1: Find User Communities to give Reflect an idea of the types of communities they can build."
      ]
    },
    {
      "cell_type": "markdown",
      "metadata": {
        "id": "DG9ifhLjCpIc"
      },
      "source": [
        "## 1. (4 points) Load data\n",
        "\n",
        "Load the tweets in the file `\"data/oreo_sentiment.csv\"` into a dataframe. Print out the head of this dataframe so we know you did it right."
      ]
    },
    {
      "cell_type": "code",
      "source": [
        "df = pd.read_csv(\"data/oreo_sentiment.csv\")\n",
        "ntweets = len(df)\n",
        "print(f\"dataframe has {ntweets} tweets\")\n",
        "df.head()"
      ],
      "metadata": {
        "colab": {
          "base_uri": "https://localhost:8080/",
          "height": 687
        },
        "id": "DaDXAzUur7uK",
        "outputId": "e94fa6f0-9b83-496b-d6ec-7769b974efb4"
      },
      "execution_count": null,
      "outputs": [
        {
          "output_type": "stream",
          "name": "stdout",
          "text": [
            "dataframe has 3000 tweets\n"
          ]
        },
        {
          "output_type": "execute_result",
          "data": {
            "text/plain": [
              "   Unnamed: 0                created_at screen_name  \\\n",
              "0           0  2022-01-28T22:03:44.000Z        Oreo   \n",
              "1           1  2022-01-28T21:36:06.000Z        Oreo   \n",
              "2           2  2022-01-28T21:08:25.000Z        Oreo   \n",
              "3           3  2022-01-28T20:31:27.000Z        Oreo   \n",
              "4           4  2022-01-28T19:25:47.000Z        Oreo   \n",
              "\n",
              "                                                                                                                                                                                    text  \\\n",
              "0    @_JuiceJones What happened there? Let's fix this. Could you send us a DM with the package's UPC and expiration date, incl. the numbers/letters that follow? https://t.co/2mOFfNnQW0   \n",
              "1                                                                                                                                                    @ZeqoeR6 That's the best we have. 🤔   \n",
              "2                                                                                                     @gagadaily the day all of our lives changed! truly iconic. https://t.co/zbJM37xbty   \n",
              "3                                                                           @mswizzle44 They're available nationwide! We recommend checking larger retailers like Walmart in your area 🤞   \n",
              "4  @YaBoyShizo We'd like to get to the bottom of this! Could you send us a DM with the package's UPC and expiration date, incl. the numbers/letters that follow? https://t.co/2mOFfNnQW0   \n",
              "\n",
              "  lang  retweet_count  reply_count  like_count  quote_count  \\\n",
              "0   en              1            0           1            0   \n",
              "1   en              0            2           6            0   \n",
              "2   en             16            5         277            1   \n",
              "3   en              0            2           1            0   \n",
              "4   en              0            0           0            0   \n",
              "\n",
              "                    id  author_id      conversation_id  in_reply_to_user_id  \\\n",
              "0  1487184644600737794  126084292  1486849965955727364         8.274650e+07   \n",
              "1  1487177690226597893  126084292  1486831768846188550         2.860886e+09   \n",
              "2  1487170722166452224  126084292  1487135476972761094         2.437448e+07   \n",
              "3  1487161422895366146  126084292  1486714137996529666         4.646480e+09   \n",
              "4  1487144893436895246  126084292  1486534320894455810         2.333453e+08   \n",
              "\n",
              "    geo  sentiment  \n",
              "0  None   2.102369  \n",
              "1  None   4.848118  \n",
              "2  None   4.775955  \n",
              "3  None   4.485816  \n",
              "4  None   2.268613  "
            ],
            "text/html": [
              "\n",
              "  <div id=\"df-a342a11f-c45c-48ea-baaa-9828f4fb8f11\">\n",
              "    <div class=\"colab-df-container\">\n",
              "      <div>\n",
              "<style scoped>\n",
              "    .dataframe tbody tr th:only-of-type {\n",
              "        vertical-align: middle;\n",
              "    }\n",
              "\n",
              "    .dataframe tbody tr th {\n",
              "        vertical-align: top;\n",
              "    }\n",
              "\n",
              "    .dataframe thead th {\n",
              "        text-align: right;\n",
              "    }\n",
              "</style>\n",
              "<table border=\"1\" class=\"dataframe\">\n",
              "  <thead>\n",
              "    <tr style=\"text-align: right;\">\n",
              "      <th></th>\n",
              "      <th>Unnamed: 0</th>\n",
              "      <th>created_at</th>\n",
              "      <th>screen_name</th>\n",
              "      <th>text</th>\n",
              "      <th>lang</th>\n",
              "      <th>retweet_count</th>\n",
              "      <th>reply_count</th>\n",
              "      <th>like_count</th>\n",
              "      <th>quote_count</th>\n",
              "      <th>id</th>\n",
              "      <th>author_id</th>\n",
              "      <th>conversation_id</th>\n",
              "      <th>in_reply_to_user_id</th>\n",
              "      <th>geo</th>\n",
              "      <th>sentiment</th>\n",
              "    </tr>\n",
              "  </thead>\n",
              "  <tbody>\n",
              "    <tr>\n",
              "      <th>0</th>\n",
              "      <td>0</td>\n",
              "      <td>2022-01-28T22:03:44.000Z</td>\n",
              "      <td>Oreo</td>\n",
              "      <td>@_JuiceJones What happened there? Let's fix this. Could you send us a DM with the package's UPC and expiration date, incl. the numbers/letters that follow? https://t.co/2mOFfNnQW0</td>\n",
              "      <td>en</td>\n",
              "      <td>1</td>\n",
              "      <td>0</td>\n",
              "      <td>1</td>\n",
              "      <td>0</td>\n",
              "      <td>1487184644600737794</td>\n",
              "      <td>126084292</td>\n",
              "      <td>1486849965955727364</td>\n",
              "      <td>8.274650e+07</td>\n",
              "      <td>None</td>\n",
              "      <td>2.102369</td>\n",
              "    </tr>\n",
              "    <tr>\n",
              "      <th>1</th>\n",
              "      <td>1</td>\n",
              "      <td>2022-01-28T21:36:06.000Z</td>\n",
              "      <td>Oreo</td>\n",
              "      <td>@ZeqoeR6 That's the best we have. 🤔</td>\n",
              "      <td>en</td>\n",
              "      <td>0</td>\n",
              "      <td>2</td>\n",
              "      <td>6</td>\n",
              "      <td>0</td>\n",
              "      <td>1487177690226597893</td>\n",
              "      <td>126084292</td>\n",
              "      <td>1486831768846188550</td>\n",
              "      <td>2.860886e+09</td>\n",
              "      <td>None</td>\n",
              "      <td>4.848118</td>\n",
              "    </tr>\n",
              "    <tr>\n",
              "      <th>2</th>\n",
              "      <td>2</td>\n",
              "      <td>2022-01-28T21:08:25.000Z</td>\n",
              "      <td>Oreo</td>\n",
              "      <td>@gagadaily the day all of our lives changed! truly iconic. https://t.co/zbJM37xbty</td>\n",
              "      <td>en</td>\n",
              "      <td>16</td>\n",
              "      <td>5</td>\n",
              "      <td>277</td>\n",
              "      <td>1</td>\n",
              "      <td>1487170722166452224</td>\n",
              "      <td>126084292</td>\n",
              "      <td>1487135476972761094</td>\n",
              "      <td>2.437448e+07</td>\n",
              "      <td>None</td>\n",
              "      <td>4.775955</td>\n",
              "    </tr>\n",
              "    <tr>\n",
              "      <th>3</th>\n",
              "      <td>3</td>\n",
              "      <td>2022-01-28T20:31:27.000Z</td>\n",
              "      <td>Oreo</td>\n",
              "      <td>@mswizzle44 They're available nationwide! We recommend checking larger retailers like Walmart in your area 🤞</td>\n",
              "      <td>en</td>\n",
              "      <td>0</td>\n",
              "      <td>2</td>\n",
              "      <td>1</td>\n",
              "      <td>0</td>\n",
              "      <td>1487161422895366146</td>\n",
              "      <td>126084292</td>\n",
              "      <td>1486714137996529666</td>\n",
              "      <td>4.646480e+09</td>\n",
              "      <td>None</td>\n",
              "      <td>4.485816</td>\n",
              "    </tr>\n",
              "    <tr>\n",
              "      <th>4</th>\n",
              "      <td>4</td>\n",
              "      <td>2022-01-28T19:25:47.000Z</td>\n",
              "      <td>Oreo</td>\n",
              "      <td>@YaBoyShizo We'd like to get to the bottom of this! Could you send us a DM with the package's UPC and expiration date, incl. the numbers/letters that follow? https://t.co/2mOFfNnQW0</td>\n",
              "      <td>en</td>\n",
              "      <td>0</td>\n",
              "      <td>0</td>\n",
              "      <td>0</td>\n",
              "      <td>0</td>\n",
              "      <td>1487144893436895246</td>\n",
              "      <td>126084292</td>\n",
              "      <td>1486534320894455810</td>\n",
              "      <td>2.333453e+08</td>\n",
              "      <td>None</td>\n",
              "      <td>2.268613</td>\n",
              "    </tr>\n",
              "  </tbody>\n",
              "</table>\n",
              "</div>\n",
              "      <button class=\"colab-df-convert\" onclick=\"convertToInteractive('df-a342a11f-c45c-48ea-baaa-9828f4fb8f11')\"\n",
              "              title=\"Convert this dataframe to an interactive table.\"\n",
              "              style=\"display:none;\">\n",
              "        \n",
              "  <svg xmlns=\"http://www.w3.org/2000/svg\" height=\"24px\"viewBox=\"0 0 24 24\"\n",
              "       width=\"24px\">\n",
              "    <path d=\"M0 0h24v24H0V0z\" fill=\"none\"/>\n",
              "    <path d=\"M18.56 5.44l.94 2.06.94-2.06 2.06-.94-2.06-.94-.94-2.06-.94 2.06-2.06.94zm-11 1L8.5 8.5l.94-2.06 2.06-.94-2.06-.94L8.5 2.5l-.94 2.06-2.06.94zm10 10l.94 2.06.94-2.06 2.06-.94-2.06-.94-.94-2.06-.94 2.06-2.06.94z\"/><path d=\"M17.41 7.96l-1.37-1.37c-.4-.4-.92-.59-1.43-.59-.52 0-1.04.2-1.43.59L10.3 9.45l-7.72 7.72c-.78.78-.78 2.05 0 2.83L4 21.41c.39.39.9.59 1.41.59.51 0 1.02-.2 1.41-.59l7.78-7.78 2.81-2.81c.8-.78.8-2.07 0-2.86zM5.41 20L4 18.59l7.72-7.72 1.47 1.35L5.41 20z\"/>\n",
              "  </svg>\n",
              "      </button>\n",
              "      \n",
              "  <style>\n",
              "    .colab-df-container {\n",
              "      display:flex;\n",
              "      flex-wrap:wrap;\n",
              "      gap: 12px;\n",
              "    }\n",
              "\n",
              "    .colab-df-convert {\n",
              "      background-color: #E8F0FE;\n",
              "      border: none;\n",
              "      border-radius: 50%;\n",
              "      cursor: pointer;\n",
              "      display: none;\n",
              "      fill: #1967D2;\n",
              "      height: 32px;\n",
              "      padding: 0 0 0 0;\n",
              "      width: 32px;\n",
              "    }\n",
              "\n",
              "    .colab-df-convert:hover {\n",
              "      background-color: #E2EBFA;\n",
              "      box-shadow: 0px 1px 2px rgba(60, 64, 67, 0.3), 0px 1px 3px 1px rgba(60, 64, 67, 0.15);\n",
              "      fill: #174EA6;\n",
              "    }\n",
              "\n",
              "    [theme=dark] .colab-df-convert {\n",
              "      background-color: #3B4455;\n",
              "      fill: #D2E3FC;\n",
              "    }\n",
              "\n",
              "    [theme=dark] .colab-df-convert:hover {\n",
              "      background-color: #434B5C;\n",
              "      box-shadow: 0px 1px 3px 1px rgba(0, 0, 0, 0.15);\n",
              "      filter: drop-shadow(0px 1px 2px rgba(0, 0, 0, 0.3));\n",
              "      fill: #FFFFFF;\n",
              "    }\n",
              "  </style>\n",
              "\n",
              "      <script>\n",
              "        const buttonEl =\n",
              "          document.querySelector('#df-a342a11f-c45c-48ea-baaa-9828f4fb8f11 button.colab-df-convert');\n",
              "        buttonEl.style.display =\n",
              "          google.colab.kernel.accessAllowed ? 'block' : 'none';\n",
              "\n",
              "        async function convertToInteractive(key) {\n",
              "          const element = document.querySelector('#df-a342a11f-c45c-48ea-baaa-9828f4fb8f11');\n",
              "          const dataTable =\n",
              "            await google.colab.kernel.invokeFunction('convertToInteractive',\n",
              "                                                     [key], {});\n",
              "          if (!dataTable) return;\n",
              "\n",
              "          const docLinkHtml = 'Like what you see? Visit the ' +\n",
              "            '<a target=\"_blank\" href=https://colab.research.google.com/notebooks/data_table.ipynb>data table notebook</a>'\n",
              "            + ' to learn more about interactive tables.';\n",
              "          element.innerHTML = '';\n",
              "          dataTable['output_type'] = 'display_data';\n",
              "          await google.colab.output.renderOutput(dataTable, element);\n",
              "          const docLink = document.createElement('div');\n",
              "          docLink.innerHTML = docLinkHtml;\n",
              "          element.appendChild(docLink);\n",
              "        }\n",
              "      </script>\n",
              "    </div>\n",
              "  </div>\n",
              "  "
            ]
          },
          "metadata": {},
          "execution_count": 7
        }
      ]
    },
    {
      "cell_type": "markdown",
      "source": [
        "## 2. (26 points) Cluster tweets\n",
        "\n",
        "Clean the text with the `clean_tweet` function and calculate the tf-idf embedding.  Then calculate the UMAP embedding on the tf-idf embedding.  Finally, use k-means to cluster the UMAP embeddings into `k=4` clusters.  Make a count plot of the number of tweets in each cluster and a bar plot of the mean sentiment per cluster, with proper axis labels and title.  This question might look familiar to you (check a previous homework)."
      ],
      "metadata": {
        "id": "w4PeV6XQd2Ki"
      }
    },
    {
      "cell_type": "code",
      "source": [
        "df = pd.read_csv(\"data/oreo_sentiment.csv\")\n",
        "ntweets = len(df)"
      ],
      "metadata": {
        "id": "Trgn64xO7s0C"
      },
      "execution_count": null,
      "outputs": []
    },
    {
      "cell_type": "code",
      "source": [
        "df = pd.read_csv(\"data/oreo_sentiment.csv\")\n",
        "ntweets = len(df)\n",
        "print(f\"dataframe has {ntweets} tweets\")\n",
        "df['text_clean'] = df.text.apply(ta.clean_tweet)  #clean the tweets\n",
        "df = df[df.text_clean.str.len() >0]  #remove cleaned tweets of lenght 0\n",
        "\n",
        "nclean = len(df)"
      ],
      "metadata": {
        "id": "5ej8os-3pK6l",
        "colab": {
          "base_uri": "https://localhost:8080/"
        },
        "outputId": "31edb24b-6d27-40f7-aab9-15fd3cfe2dbe"
      },
      "execution_count": null,
      "outputs": [
        {
          "output_type": "stream",
          "name": "stdout",
          "text": [
            "dataframe has 3000 tweets\n"
          ]
        }
      ]
    },
    {
      "cell_type": "code",
      "source": [
        "tfidf_vectorizer = TfidfVectorizer(min_df=5, stop_words='english')\n",
        "tfidf_embedding = tfidf_vectorizer.fit_transform(df.text_clean)"
      ],
      "metadata": {
        "id": "eRqk4_kKyDkz",
        "colab": {
          "base_uri": "https://localhost:8080/",
          "height": 190
        },
        "outputId": "86b22b8e-350a-4551-85cb-721ccd247477"
      },
      "execution_count": null,
      "outputs": [
        {
          "output_type": "error",
          "ename": "NameError",
          "evalue": "ignored",
          "traceback": [
            "\u001b[0;31m---------------------------------------------------------------------------\u001b[0m",
            "\u001b[0;31mNameError\u001b[0m                                 Traceback (most recent call last)",
            "\u001b[0;32m<ipython-input-11-9898b04fe411>\u001b[0m in \u001b[0;36m<module>\u001b[0;34m()\u001b[0m\n\u001b[0;32m----> 1\u001b[0;31m \u001b[0mtfidf_vectorizer\u001b[0m \u001b[0;34m=\u001b[0m \u001b[0mTfidfVectorizer\u001b[0m\u001b[0;34m(\u001b[0m\u001b[0mmin_df\u001b[0m\u001b[0;34m=\u001b[0m\u001b[0;36m5\u001b[0m\u001b[0;34m,\u001b[0m \u001b[0mstop_words\u001b[0m\u001b[0;34m=\u001b[0m\u001b[0;34m'english'\u001b[0m\u001b[0;34m)\u001b[0m\u001b[0;34m\u001b[0m\u001b[0;34m\u001b[0m\u001b[0m\n\u001b[0m\u001b[1;32m      2\u001b[0m \u001b[0mtfidf_embedding\u001b[0m \u001b[0;34m=\u001b[0m \u001b[0mtfidf_vectorizer\u001b[0m\u001b[0;34m.\u001b[0m\u001b[0mfit_transform\u001b[0m\u001b[0;34m(\u001b[0m\u001b[0mdf\u001b[0m\u001b[0;34m.\u001b[0m\u001b[0mtext_clean\u001b[0m\u001b[0;34m)\u001b[0m\u001b[0;34m\u001b[0m\u001b[0;34m\u001b[0m\u001b[0m\n",
            "\u001b[0;31mNameError\u001b[0m: name 'TfidfVectorizer' is not defined"
          ]
        }
      ]
    },
    {
      "cell_type": "code",
      "source": [
        "umap_tfidf_embedding = umap.UMAP(n_components=2, metric='hellinger').fit_transform(tfidf_embedding)\n",
        "umap_tfidf_embedding = stats.zscore(umap_tfidf_embedding,nan_policy='omit')\n",
        "df['umap_tfidf_x'] = umap_tfidf_embedding[:,0]\n",
        "df['umap_tfidf_y'] = umap_tfidf_embedding[:,1]\n"
      ],
      "metadata": {
        "id": "-lPfyu9_ycsO"
      },
      "execution_count": null,
      "outputs": []
    },
    {
      "cell_type": "code",
      "source": [
        "kmeans_label = cluster.KMeans(n_clusters=n_clusters).fit_predict(umap_tfidf_embedding)\n",
        "df['kmeans_label_tfidf_umap'] = [str(x) for x in kmeans_label]\n",
        "\n",
        "plt.figure(figsize = (16,8))\n",
        "ax = sns.countplot(data = df, x = 'kmeans_label_tfidf_umap')\n",
        "plt.title(f\"Tweets of Oreo by TF-IDF K-mean UMAP cluster\",fontsize = 16)\n",
        "plt.ylabel(\"Number of tweets\",fontsize = 16)\n",
        "plt.xlabel(\"Clusters\",fontsize = 16)\n",
        "plt.show()"
      ],
      "metadata": {
        "id": "JPPzRok7-FDC"
      },
      "execution_count": null,
      "outputs": []
    },
    {
      "cell_type": "code",
      "source": [
        "fig=plt.figure(figsize=(10,10))\n",
        "sns.barplot(data=df,x='kmeans_label_tfidf_umap', y=\"sentiment\")\n",
        "plt.ylabel(\"Sentiment\", fontsize = 18)\n",
        "plt.xlabel(\"Cluster\", fontsize = 18)\n",
        "plt.title(f\"Sentiment per Cluster\",fontsize=20)\n",
        "plt.show()"
      ],
      "metadata": {
        "id": "Df9d1XC4hUpC"
      },
      "execution_count": null,
      "outputs": []
    },
    {
      "cell_type": "markdown",
      "source": [
        "## 3. (9 points) Plot mean sentiment vs mean retweet count per cluster\n",
        "\n",
        "Make a scatterplot of the mean sentiment  vs the mean retweet count of each k-means cluster.  Set the marker size to 1000.   Make sure to add axes labels and a title to the figure.  "
      ],
      "metadata": {
        "id": "mlXQab8Qgzx_"
      }
    },
    {
      "cell_type": "code",
      "source": [
        "for n_clusters in n_clusters:\n",
        "  df['mean_sentiment']=df.sentiment.mean()\n",
        "  df['mean_rtcount']=df.retweet_count.mean()\n",
        "\n",
        "  fig = plt.figure(figsize = (12,8))\n",
        "  ax = sns.scatterplot(data=df, x=\"sentiment\", y=\"retweet_count\")\n",
        "  plt.xlabel(\"Sentiment\", fontsize = 16)\n",
        "  plt.ylabel(\"Retweet Count\", fontsize = 16)\n",
        "  plt.xticks(fontsize = 14)\n",
        "  plt.yticks(fontsize = 14)\n",
        "\n",
        "  plt.grid()\n",
        "  plt.show()"
      ],
      "metadata": {
        "id": "D5TdRrjNHFsr"
      },
      "execution_count": null,
      "outputs": []
    },
    {
      "cell_type": "code",
      "source": [
        "kmeans_label = cluster.KMeans(n_clusters=n_clusters).fit_predict(np.nan_to_num(umap_tfidf_embedding))\n",
        "df['kmeans_label_tfidf_umap'] = [str(x) for x in kmeans_label]\n",
        "s=1000\n",
        "fig = plt.figure(figsize = (12,6))\n",
        "sns.scatterplot(data = df, x= 'retweet_count', y = 'sentiment')\n",
        "plt.xlim([3,4])\n",
        "plt.xlabel(\"Screen name\",fontsize = 16)\n",
        "plt.ylabel(\"Mean sentiment\",fontsize = 16)\n",
        "plt.xticks(fontsize = 14)\n",
        "plt.yticks(fontsize = 14)\n",
        "plt.title(\"Sentiment vs Screen Name\",fontsize = 20)\n",
        "plt.grid()"
      ],
      "metadata": {
        "id": "LsTBPTbg9J90"
      },
      "execution_count": null,
      "outputs": []
    },
    {
      "cell_type": "markdown",
      "source": [
        "## 4. (8 points) Correlation of retweet count and sentiment\n",
        "\n",
        "Calculate the Pearson correlation coefficient of the mean sentiment and mean retweet count of the clusters.  Print the coefficient and p-value up to three decimal points.  Is the correlation significant at a 1% level?"
      ],
      "metadata": {
        "id": "dCgePRNtjU5d"
      }
    },
    {
      "cell_type": "code",
      "source": [
        "import numpy as np\n",
        "import matplotlib.pyplot as plt"
      ],
      "metadata": {
        "id": "zCmvgLqRh5s4"
      },
      "execution_count": null,
      "outputs": []
    },
    {
      "cell_type": "code",
      "source": [
        "my_rho = np.corrcoef(mean_sentiment, mean_rt)\n",
        "print()"
      ],
      "metadata": {
        "id": "z3qa2hMIDZ-p"
      },
      "execution_count": null,
      "outputs": []
    },
    {
      "cell_type": "markdown",
      "source": [
        "## 5. (10 points) T-test of cluster sentiment\n",
        "\n",
        "Find the clusters with the lowest and highest mean sentiment and print their values.  Then use a t-test to determine if these mean sentiments are different at a 1% level.  Print your t-statistics, pvalues, and whether it is significant."
      ],
      "metadata": {
        "id": "5ND8bw3jlUBG"
      }
    },
    {
      "cell_type": "code",
      "source": [
        ""
      ],
      "metadata": {
        "id": "OxOgNJ4DiynK"
      },
      "execution_count": null,
      "outputs": []
    },
    {
      "cell_type": "markdown",
      "source": [
        "# Problem 2. (44 points) Tweet Keywords and Retweet Count\n",
        "\n",
        "We will look at the retweet count as a function of the keyword in a tweet."
      ],
      "metadata": {
        "id": "Y-3xoHR1qWzR"
      }
    },
    {
      "cell_type": "markdown",
      "source": [
        "## 1. (4 points) Load data\n",
        "\n",
        "Load the tweets in the file `\"data/oreo_sentiment.csv\"` into a dataframe. Print out the head of this dataframe so we know you did it right."
      ],
      "metadata": {
        "id": "4Lw0cA2N_-Wg"
      }
    },
    {
      "cell_type": "code",
      "source": [
        "!git clone https://github.com/zlisto/social_media_analytics\n",
        "\n",
        "import os\n",
        "os.chdir(\"social_media_analytics\")"
      ],
      "metadata": {
        "id": "AKsqsvwiEk8f"
      },
      "execution_count": null,
      "outputs": []
    },
    {
      "cell_type": "code",
      "source": [
        "from datetime import datetime, timedelta\n",
        "import numpy as np\n",
        "import sqlite3, sys, os\n",
        "import pandas as pd\n",
        "import matplotlib.pyplot as plt\n",
        "import seaborn as sns\n",
        "from collections import Counter\n",
        "from scipy import stats\n",
        "from statsmodels.stats.weightstats import ztest\n",
        "from statsmodels.stats.multitest import multipletests\n",
        "\n",
        "#import statsmodels.stats.multitest.multipletests as multipletests\n",
        "#helper code\n",
        "from scripts.api import *\n",
        "import scripts.TextAnalysis as ta\n",
        "\n",
        "pd.set_option(\"display.max_colwidth\", None)"
      ],
      "metadata": {
        "id": "h5Tr8UZCEoQM"
      },
      "execution_count": null,
      "outputs": []
    },
    {
      "cell_type": "code",
      "source": [
        "fname = \"data/oreo_sentiment.csv\"\n",
        "df_all = pd.read_csv(fname)\n",
        "df_all.head()"
      ],
      "metadata": {
        "id": "rajgNcgvEwrX"
      },
      "execution_count": null,
      "outputs": []
    },
    {
      "cell_type": "markdown",
      "source": [
        "## 2. (10 points) Plot retweet count vs. keyword\n",
        "\n",
        "We will look at the keywords `\"fordtrucks\"`, `\"thinsprotectionprogram\"`,`\"pokemon\"`, and `\"oreo\"`.  For each keyword, make a separate bar plot of the mean retweet count of tweets with the keyword and without it.  Put labels on the axes and a title indicating which keyword you are plotting.  A `for` loop might be useful here."
      ],
      "metadata": {
        "id": "rsbaRShfqeDE"
      }
    },
    {
      "cell_type": "code",
      "source": [
        "keywords = ['fordtrucks', 'thinsprotectionprogram','pokemon','oreo']\n",
        "\n",
        "for keywords in keywords:\n",
        "  fig = plt.figure(figsize = (12,6))\n",
        "  df['has_keyword'] = df.text.str.contains(keywords, case = False)\n",
        "  sns.barplot(data=df,x='has_keyword', y=\"retweet_count\")\n",
        "  plt.ylabel(\"Mean retweet count\", fontsize = 18)\n",
        "  plt.xlabel(\"Has keyword\", fontsize = 18)\n",
        "  plt.title(f\"Tweets containing {keywords} mean retweet count\",fontsize=20)\n",
        "  plt.show()"
      ],
      "metadata": {
        "id": "F-2l47GaosR5"
      },
      "execution_count": null,
      "outputs": []
    },
    {
      "cell_type": "markdown",
      "source": [
        "## 3. (10 points) T-test of retweet count\n",
        "\n",
        "Do a t-test for the mean retweet count of tweets with and without the keyword for each keyword.  Print your t-statistics and pvalues. A `for` loop might be useful here."
      ],
      "metadata": {
        "id": "YDfD_e5JuukK"
      }
    },
    {
      "cell_type": "code",
      "source": [
        "keywords = ['fordtrucks', 'thinsprotectionprogram','pokemon','oreo']\n",
        "for keyword in keywords:\n",
        "  df[f'keyword_{keyword}'] = df.text.str.contains(keyword, case=False)\n",
        "\n",
        "df.sample(n=2)"
      ],
      "metadata": {
        "id": "wr88j_BJXKPR"
      },
      "execution_count": null,
      "outputs": []
    },
    {
      "cell_type": "code",
      "source": [
        "keyword = ['fordtrucks', 'thinsprotectionprogram','pokemon','oreo']\n",
        "\n",
        "X0 = df_u.retweet_count[df_u[f\"{keyword}\"]==False].dropna().tolist()\n",
        "X1 = df_u.retweet_count[df_u[f\"{keyword}\"]==True].dropna().tolist()\n",
        "n0 = len(X0)\n",
        "n1 = len(X1)\n",
        "\n",
        "mu0 = np.mean(X0)\n",
        "mu1 = np.mean(X1)\n",
        "\n",
        "print(f\"Tweets of {screen_name}\")\n",
        "print(f\"Contains {keyword}\\tNumber of tweets\\tMean retweet count\")\n",
        "print(f\"False\\t\\t{n0}\\t\\t\\t{mu0:.3f}\")\n",
        "print(f\"True\\t\\t{n1}\\t\\t\\t{mu1:.3f}\")\n"
      ],
      "metadata": {
        "id": "mtgFuEx4vA7P"
      },
      "execution_count": null,
      "outputs": []
    },
    {
      "cell_type": "markdown",
      "source": [
        "## 4. (10 points) T-test of retweet count with Holm-Bonferroni Method\n",
        "\n",
        "Apply the Holm-Bonferroni method to the calculated p-values.  Print the corrected pvalues and whether the mean retweet count difference is significant at a 1% level for each keyword."
      ],
      "metadata": {
        "id": "BVfRO10fvKr0"
      }
    },
    {
      "cell_type": "code",
      "source": [
        ""
      ],
      "metadata": {
        "id": "cFJVZT34tIV2"
      },
      "execution_count": null,
      "outputs": []
    },
    {
      "cell_type": "markdown",
      "source": [
        "## 5. (10 points) Oreo vs. Pokemon\n",
        "\n",
        "Apply a t-test to compare the mean retweet count of tweets that contain `\"pokemon\"` to those that contain `\"oreo\"`.  Print the mean retweet count of each group of tweets, the t-statistic and p-value.  Is the difference significant at a 1% level?"
      ],
      "metadata": {
        "id": "3SBzASJ_w0Zq"
      }
    },
    {
      "cell_type": "code",
      "source": [
        ""
      ],
      "metadata": {
        "id": "OavoiUWJw8wW"
      },
      "execution_count": null,
      "outputs": []
    },
    {
      "cell_type": "markdown",
      "source": [
        "# Problem 3. (24 points) Comparing Users"
      ],
      "metadata": {
        "id": "CDZoWEgQ5nYY"
      }
    },
    {
      "cell_type": "markdown",
      "source": [
        "## 1. (4 points) Load data\n",
        "\n",
        "Load the tweets in the database file `\"data/HW4\"` into a dataframe.  These are tweets for a few prominent Twitter users."
      ],
      "metadata": {
        "id": "3Q8OWHz1EVkG"
      }
    },
    {
      "cell_type": "code",
      "source": [
        ""
      ],
      "metadata": {
        "id": "uLs4uJMi55HO"
      },
      "execution_count": null,
      "outputs": []
    },
    {
      "cell_type": "markdown",
      "source": [
        "## 2. (10 points) Fisher exact test for keyword usage\n",
        "\n",
        "Do a Fisher exact test to determine if users with screen names `\"KingJames\"` and `\"Cristiano\"` use the word `\"nike\"` with the same frequency.  Print the values in your contingency table (`a`,`b`,`c`,`d` defined in lecture).  Print the p-value and  whether the difference is significant at a 1% level."
      ],
      "metadata": {
        "id": "bXVSh1fz7pVg"
      }
    },
    {
      "cell_type": "code",
      "source": [
        ""
      ],
      "metadata": {
        "id": "HrF-54Xx67io"
      },
      "execution_count": null,
      "outputs": []
    },
    {
      "cell_type": "markdown",
      "source": [
        "## 3. (10 point) Follower engagement\n",
        "\n",
        "Define follower engagement as the ratio of retweet count to follower count.  Do a t-test to determine if `\"KingJames\"` and `\"Cristiano\"` have the same follower engagement.  Print the mean follower engagement of each user, the t-statistic, p-value, and if the difference is significant at a 1% level.\n",
        "\n",
        "The follower counts can be found in the file `\"data/HW4\"` in the `\"users\"` table."
      ],
      "metadata": {
        "id": "62J5cE_X7w2a"
      }
    },
    {
      "cell_type": "code",
      "source": [
        ""
      ],
      "metadata": {
        "id": "5gahXnv_7zm3"
      },
      "execution_count": null,
      "outputs": []
    },
    {
      "cell_type": "markdown",
      "source": [
        "# Problem 4. (20 points) Tweet Day\n",
        "\n",
        "We will look at the effect the day of the week has on the retweet count for Lebron James."
      ],
      "metadata": {
        "id": "G4ONoezD__n2"
      }
    },
    {
      "cell_type": "markdown",
      "source": [
        "## 1. (10 points) Plot retweet count vs day\n",
        "\n",
        "From the tweets you loaded from the file `\"data/HW4\"`, get the tweets of the screen name `\"KingJames\"`.  Make a bar plot of the mean retweet count vs. day of the week.  Make sure to label axes and put the screen name in the title."
      ],
      "metadata": {
        "id": "HBzhnE5g768k"
      }
    },
    {
      "cell_type": "code",
      "source": [
        ""
      ],
      "metadata": {
        "id": "ivhJZkaj8GMq"
      },
      "execution_count": null,
      "outputs": []
    },
    {
      "cell_type": "markdown",
      "source": [
        "## 2. (10 points) T-test of Monday vs. Friday retweet count \n",
        "\n",
        "Apply a t-test to compare the mean retweet count of tweets posted on Monday vs. posted on Friday.  Print the mean retweet count of each group of tweets, the t-statistic and p-value.  Is the difference significant at a 1% level?"
      ],
      "metadata": {
        "id": "nkQDG08B-8ZW"
      }
    },
    {
      "cell_type": "code",
      "source": [
        ""
      ],
      "metadata": {
        "id": "uDwu0X6q81im"
      },
      "execution_count": null,
      "outputs": []
    }
  ],
  "metadata": {
    "accelerator": "GPU",
    "colab": {
      "collapsed_sections": [],
      "name": "Final Project",
      "provenance": []
    },
    "kernelspec": {
      "display_name": "Python 3",
      "language": "python",
      "name": "python3"
    },
    "language_info": {
      "codemirror_mode": {
        "name": "ipython",
        "version": 3
      },
      "file_extension": ".py",
      "mimetype": "text/x-python",
      "name": "python",
      "nbconvert_exporter": "python",
      "pygments_lexer": "ipython3",
      "version": "3.7.2"
    }
  },
  "nbformat": 4,
  "nbformat_minor": 0
}